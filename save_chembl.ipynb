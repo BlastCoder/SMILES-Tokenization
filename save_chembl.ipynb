{
 "cells": [
  {
   "cell_type": "code",
   "execution_count": null,
   "metadata": {},
   "outputs": [],
   "source": [
    "from pathlib import Path\n",
    "DATA_DIR = Path(\"data\")   # tweak as you like\n",
    "\n",
    "from datasets import load_dataset\n",
    "import pyarrow.parquet as pq\n",
    "import pyarrow as pa\n",
    "\n",
    "REPO = \"antoinebcx/smiles-molecules-chembl\"     # or \"HoangHa/chembl-smiles-pretrain\"\n",
    "SMILES_COL = \"smiles\"                           # change to \"molecule_smiles\" for the other repo\n",
    "SPLITS = [\"train\", \"validation\", \"test\"]        # keep all three so `split='all'` still works\n",
    "\n",
    "for split in SPLITS:\n",
    "    print(f\"► Writing {split} …\")\n",
    "    # 1) stream → prevents loading the whole corpus into RAM\n",
    "    ds_stream = load_dataset(REPO, split=split, streaming=True)\n",
    "    # 2) convert each streaming batch to Arrow Table & write to Parquet\n",
    "    #    (one shard per split keeps life simple; you could shard every N rows if desired)\n",
    "    batches = []\n",
    "    for batch in ds_stream.iter(1_000_000):     # 1 M rows per Arrow batch\n",
    "        batches.append(pa.Table.from_pydict({ \"SMILES\": batch[SMILES_COL] }))\n",
    "    table = pa.concat_tables(batches)\n",
    "    pq.write_table(\n",
    "        table,\n",
    "        DATA_DIR / f\"chembl_{split}.parquet\",\n",
    "        compression=\"zstd\",                     # snappy or gzip are fine too\n",
    "        version=\"2.6\"                           # Parquet V2 for good compression\n",
    "    )"
   ]
  },
  {
   "cell_type": "code",
   "execution_count": null,
   "metadata": {},
   "outputs": [],
   "source": []
  }
 ],
 "metadata": {
  "language_info": {
   "name": "python"
  }
 },
 "nbformat": 4,
 "nbformat_minor": 2
}
