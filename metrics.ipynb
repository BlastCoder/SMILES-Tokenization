{
 "cells": [
  {
   "cell_type": "markdown",
   "metadata": {},
   "source": [
    "## Imports"
   ]
  },
  {
   "cell_type": "code",
   "execution_count": null,
   "metadata": {},
   "outputs": [],
   "source": [
    "from collections import Counter\n",
    "from collections import defaultdict\n",
    "import math\n",
    "import numpy as np\n",
    "import codecs\n",
    "import tqdm\n",
    "import time\n",
    "import copy\n",
    "import matplotlib.pyplot as plt\n",
    "import pandas as pd\n",
    "%matplotlib inline\n",
    "\n",
    "from utils import iter_smiles\n",
    "import trie_funcs as tf\n",
    "from ape_tokenizer import APETokenizer\n",
    "from SmilesPE.tokenizer import SPE_Tokenizer"
   ]
  },
  {
   "cell_type": "markdown",
   "metadata": {},
   "source": [
    "## Load Pre-Trained Tokenizers"
   ]
  },
  {
   "cell_type": "code",
   "execution_count": 39,
   "metadata": {},
   "outputs": [],
   "source": [
    "SLICE = \"data/pubchem_100K.parquet\"\n",
    "TRIE_FILE = \"trie_pubchem100K.pkl\"\n",
    "APE_DIR = \"ape_pubchem100K\"\n",
    "SPE_FILE = \"spe_pubchem100K.txt\"\n",
    "Chembl = \"data/chembl_train.parquet\""
   ]
  },
  {
   "cell_type": "code",
   "execution_count": 40,
   "metadata": {},
   "outputs": [],
   "source": [
    "ape = APETokenizer.from_pretrained(APE_DIR)\n",
    "trie_state = tf.load_state(TRIE_FILE)\n",
    "spe_vocab = codecs.open(\"./spe_pubchem100K.txt\")\n",
    "spe = SPE_Tokenizer(spe_vocab)"
   ]
  },
  {
   "cell_type": "markdown",
   "metadata": {},
   "source": [
    "## Helper Functions"
   ]
  },
  {
   "cell_type": "code",
   "execution_count": 41,
   "metadata": {},
   "outputs": [],
   "source": [
    "def sum_tokens_and_chars(smiles_iter, token_fn):\n",
    "    total_tokens = 0\n",
    "    total_chars = 0\n",
    "\n",
    "    for smi in smiles_iter:\n",
    "        total_tokens += token_fn(smi)\n",
    "        total_chars += len(smi)\n",
    "\n",
    "    return total_tokens, total_chars\n",
    "\n",
    "\n",
    "def mean_len(generator, fn, desc):\n",
    "    tot = n = 0\n",
    "    for s in tqdm.tqdm(generator, desc=desc):\n",
    "        tot += fn(s)\n",
    "        n += 1\n",
    "    return tot / n\n",
    "\n",
    "\n",
    "def var_len(generator, fn, desc, mean):\n",
    "    tot = n = 0\n",
    "    for s in tqdm.tqdm(generator, desc=desc):\n",
    "        tot += (fn(s) - mean) ** 2\n",
    "        n += 1\n",
    "    return tot / n"
   ]
  },
  {
   "cell_type": "markdown",
   "metadata": {},
   "source": [
    "## Compute Fertility, Mean, Variance, and Normalized Entropy"
   ]
  },
  {
   "cell_type": "code",
   "execution_count": 90,
   "metadata": {},
   "outputs": [],
   "source": [
    "def compute_spe_metrics(smiles_list, tokenizer):\n",
    "    \"\"\"\n",
    "    Compute all SPE metrics (fertility, mean, variance, normalized entropy) in a single pass.\n",
    "    \n",
    "    Args:\n",
    "        smiles_list: Path to parquet file containing SMILES strings\n",
    "        tokenizer: SPE tokenizer instance with tokenize() method\n",
    "        \n",
    "    Returns:\n",
    "        tuple: (fertility, mean, variance, normalized_entropy)\n",
    "    \"\"\"\n",
    "    from utils import iter_smiles\n",
    "    from collections import Counter\n",
    "    import tqdm\n",
    "    import math\n",
    "    \n",
    "    total_tokens = 0\n",
    "    total_chars = 0\n",
    "    token_counts = []\n",
    "    token_freq = Counter()\n",
    "    \n",
    "    # Single pass through the data\n",
    "    for smi in tqdm.tqdm(iter_smiles(smiles_list), desc=\"SPE metrics\"):\n",
    "        # Tokenize once per SMILES\n",
    "        tokens = tokenizer.tokenize(smi).split(\" \")\n",
    "        token_count = len(tokens)\n",
    "        \n",
    "        # Collect data for all metrics\n",
    "        total_tokens += token_count\n",
    "        total_chars += len(smi)\n",
    "        token_counts.append(token_count)\n",
    "        token_freq.update(tokens)  # For entropy calculation\n",
    "    \n",
    "    n = len(token_counts)\n",
    "    \n",
    "    # Calculate basic metrics\n",
    "    fertility = total_tokens / total_chars if total_chars > 0 else 0\n",
    "    spe_avg = total_tokens / n if n > 0 else 0\n",
    "    spe_var = sum((count - spe_avg) ** 2 for count in token_counts) / n if n > 0 else 0\n",
    "    \n",
    "    # Calculate normalized entropy\n",
    "    if total_tokens == 0:\n",
    "        normalized_entropy = 0.0\n",
    "    else:\n",
    "        vocab_size = len(token_freq)\n",
    "        if vocab_size <= 1:\n",
    "            normalized_entropy = 0.0\n",
    "        else:\n",
    "            # Shannon entropy\n",
    "            entropy = -sum((cnt/total_tokens) * math.log2(cnt/total_tokens)\n",
    "                          for cnt in token_freq.values())\n",
    "            # Normalize by log₂(observed_vocab_size)\n",
    "            normalized_entropy = entropy / math.log2(vocab_size)\n",
    "    \n",
    "    return fertility, spe_avg, spe_var, normalized_entropy"
   ]
  },
  {
   "cell_type": "code",
   "execution_count": 96,
   "metadata": {},
   "outputs": [],
   "source": [
    "def compute_trie_metrics(smiles_list, tokenizer):\n",
    "    \"\"\"\n",
    "    Compute all Trie metrics (fertility, mean, variance, normalized entropy) in a single pass.\n",
    "    \n",
    "    Args:\n",
    "        smiles_list: Path to parquet file containing SMILES strings\n",
    "        tokenizer: Trie tokenizer state with compress_and_len function\n",
    "        \n",
    "    Returns:\n",
    "        tuple: (fertility, mean, variance, normalized_entropy)\n",
    "    \"\"\"\n",
    "    from utils import iter_smiles\n",
    "    from collections import Counter\n",
    "    import tqdm\n",
    "    import math\n",
    "    \n",
    "    # Import trie_funcs locally to avoid import issues\n",
    "    try:\n",
    "        import trie_funcs as tf\n",
    "    except ImportError:\n",
    "        raise ImportError(\"trie_funcs module is required for Trie metrics\")\n",
    "    \n",
    "    total_tokens = 0\n",
    "    total_chars = 0\n",
    "    token_counts = []\n",
    "    token_freq = Counter()\n",
    "    \n",
    "    # Single pass through the data\n",
    "    for smi in tqdm.tqdm(iter_smiles(smiles_list), desc=\"Trie metrics\"):\n",
    "        # Tokenize once per SMILES\n",
    "        base = tf.tokenize(smi)  # list of atomic tokens\n",
    "        tokens = tf.compress(base, tokenizer.replace_root)\n",
    "        token_count = len(tokens)\n",
    "        \n",
    "        # Collect data for all metrics\n",
    "        total_tokens += token_count\n",
    "        total_chars += len(smi)\n",
    "        token_counts.append(token_count)\n",
    "        token_freq.update(tokens)  # For entropy calculation\n",
    "    \n",
    "    n = len(token_counts)\n",
    "    \n",
    "    # Calculate basic metrics\n",
    "    fertility = total_tokens / total_chars if total_chars > 0 else 0\n",
    "    trie_avg = total_tokens / n if n > 0 else 0\n",
    "    trie_var = sum((count - trie_avg) ** 2 for count in token_counts) / n if n > 0 else 0\n",
    "    \n",
    "    # Calculate normalized entropy\n",
    "    if total_tokens == 0:\n",
    "        normalized_entropy = 0.0\n",
    "    else:\n",
    "        vocab_size = len(token_freq)\n",
    "        if vocab_size <= 1:\n",
    "            normalized_entropy = 0.0\n",
    "        else:\n",
    "            # Shannon entropy\n",
    "            entropy = -sum((cnt/total_tokens) * math.log2(cnt/total_tokens)\n",
    "                          for cnt in token_freq.values())\n",
    "            # Normalize by log₂(observed_vocab_size)\n",
    "            normalized_entropy = entropy / math.log2(vocab_size)\n",
    "    \n",
    "    return fertility, trie_avg, trie_var, normalized_entropy"
   ]
  },
  {
   "cell_type": "code",
   "execution_count": 97,
   "metadata": {},
   "outputs": [],
   "source": [
    "def compute_ape_metrics(smiles_list, tokenizer):\n",
    "    \"\"\"\n",
    "    Compute all APE metrics (fertility, mean, variance, normalized entropy) in a single pass.\n",
    "    \n",
    "    Args:\n",
    "        smiles_list: Path to parquet file containing SMILES strings\n",
    "        tokenizer: APE tokenizer instance with encode() method\n",
    "        \n",
    "    Returns:\n",
    "        tuple: (fertility, mean, variance, normalized_entropy)\n",
    "    \"\"\"\n",
    "    from utils import iter_smiles\n",
    "    from collections import Counter\n",
    "    import tqdm\n",
    "    import math\n",
    "    \n",
    "    total_tokens = 0\n",
    "    total_chars = 0\n",
    "    token_counts = []\n",
    "    token_freq = Counter()\n",
    "    \n",
    "    # Single pass through the data\n",
    "    for smi in tqdm.tqdm(iter_smiles(smiles_list), desc=\"APE metrics\"):\n",
    "        # Tokenize once per SMILES\n",
    "        tokens = tokenizer.encode(smi)\n",
    "        token_count = len(tokens)\n",
    "        \n",
    "        # Collect data for all metrics\n",
    "        total_tokens += token_count\n",
    "        total_chars += len(smi)\n",
    "        token_counts.append(token_count)\n",
    "        token_freq.update(tokens)  # For entropy calculation\n",
    "    \n",
    "    n = len(token_counts)\n",
    "    \n",
    "    # Calculate basic metrics\n",
    "    fertility = total_tokens / total_chars if total_chars > 0 else 0\n",
    "    ape_avg = total_tokens / n if n > 0 else 0\n",
    "    ape_var = sum((count - ape_avg) ** 2 for count in token_counts) / n if n > 0 else 0\n",
    "    \n",
    "    # Calculate normalized entropy\n",
    "    if total_tokens == 0:\n",
    "        normalized_entropy = 0.0\n",
    "    else:\n",
    "        vocab_size = len(token_freq)\n",
    "        if vocab_size <= 1:\n",
    "            normalized_entropy = 0.0\n",
    "        else:\n",
    "            # Shannon entropy\n",
    "            entropy = -sum((cnt/total_tokens) * math.log2(cnt/total_tokens)\n",
    "                          for cnt in token_freq.values())\n",
    "            # Normalize by log₂(observed_vocab_size)\n",
    "            normalized_entropy = entropy / math.log2(vocab_size)\n",
    "    \n",
    "    return fertility, ape_avg, ape_var, normalized_entropy"
   ]
  },
  {
   "cell_type": "code",
   "execution_count": 100,
   "metadata": {},
   "outputs": [
    {
     "name": "stderr",
     "output_type": "stream",
     "text": [
      "SPE metrics: 100000it [00:00, 309757.85it/s]\n",
      "Trie metrics: 100000it [00:00, 112666.79it/s]\n",
      "APE metrics: 100000it [00:01, 51732.98it/s]\n"
     ]
    }
   ],
   "source": [
    "spe_fert, spe_avg, spe_var, spe_ent = compute_spe_metrics(SLICE, spe)\n",
    "\n",
    "trie_fert, trie_avg, trie_var, trie_ent = compute_trie_metrics(SLICE, trie_state)\n",
    "\n",
    "ape_fert, ape_avg, ape_var, ape_ent = compute_ape_metrics(SLICE, ape)\n"
   ]
  },
  {
   "cell_type": "markdown",
   "metadata": {},
   "source": [
    "## Compare Metrics"
   ]
  },
  {
   "cell_type": "code",
   "execution_count": 102,
   "metadata": {},
   "outputs": [
    {
     "data": {
      "text/html": [
       "<style type=\"text/css\">\n",
       "</style>\n",
       "<table id=\"T_ca462\">\n",
       "  <thead>\n",
       "    <tr>\n",
       "      <th class=\"blank level0\" >&nbsp;</th>\n",
       "      <th id=\"T_ca462_level0_col0\" class=\"col_heading level0 col0\" >Tokenizer</th>\n",
       "      <th id=\"T_ca462_level0_col1\" class=\"col_heading level0 col1\" >Fertility</th>\n",
       "      <th id=\"T_ca462_level0_col2\" class=\"col_heading level0 col2\" >Mean</th>\n",
       "      <th id=\"T_ca462_level0_col3\" class=\"col_heading level0 col3\" >Variance</th>\n",
       "      <th id=\"T_ca462_level0_col4\" class=\"col_heading level0 col4\" >Normalized Entropy</th>\n",
       "    </tr>\n",
       "  </thead>\n",
       "  <tbody>\n",
       "    <tr>\n",
       "      <th id=\"T_ca462_level0_row0\" class=\"row_heading level0 row0\" >0</th>\n",
       "      <td id=\"T_ca462_row0_col0\" class=\"data row0 col0\" >SPE</td>\n",
       "      <td id=\"T_ca462_row0_col1\" class=\"data row0 col1\" >0.2788</td>\n",
       "      <td id=\"T_ca462_row0_col2\" class=\"data row0 col2\" >12.38</td>\n",
       "      <td id=\"T_ca462_row0_col3\" class=\"data row0 col3\" >42.39</td>\n",
       "      <td id=\"T_ca462_row0_col4\" class=\"data row0 col4\" >0.888672</td>\n",
       "    </tr>\n",
       "    <tr>\n",
       "      <th id=\"T_ca462_level0_row1\" class=\"row_heading level0 row1\" >1</th>\n",
       "      <td id=\"T_ca462_row1_col0\" class=\"data row1 col0\" >Trie</td>\n",
       "      <td id=\"T_ca462_row1_col1\" class=\"data row1 col1\" >0.1014</td>\n",
       "      <td id=\"T_ca462_row1_col2\" class=\"data row1 col2\" >4.50</td>\n",
       "      <td id=\"T_ca462_row1_col3\" class=\"data row1 col3\" >5.49</td>\n",
       "      <td id=\"T_ca462_row1_col4\" class=\"data row1 col4\" >0.867195</td>\n",
       "    </tr>\n",
       "    <tr>\n",
       "      <th id=\"T_ca462_level0_row2\" class=\"row_heading level0 row2\" >2</th>\n",
       "      <td id=\"T_ca462_row2_col0\" class=\"data row2 col0\" >APE</td>\n",
       "      <td id=\"T_ca462_row2_col1\" class=\"data row2 col1\" >0.1576</td>\n",
       "      <td id=\"T_ca462_row2_col2\" class=\"data row2 col2\" >7.00</td>\n",
       "      <td id=\"T_ca462_row2_col3\" class=\"data row2 col3\" >13.28</td>\n",
       "      <td id=\"T_ca462_row2_col4\" class=\"data row2 col4\" >0.911246</td>\n",
       "    </tr>\n",
       "  </tbody>\n",
       "</table>\n"
      ],
      "text/plain": [
       "<pandas.io.formats.style.Styler at 0x32a25f450>"
      ]
     },
     "execution_count": 102,
     "metadata": {},
     "output_type": "execute_result"
    }
   ],
   "source": [
    "df = pd.DataFrame({\n",
    "    \"Tokenizer\": [\"SPE\", \"Trie\", \"APE\"],\n",
    "    \"Fertility\": [spe_fert, trie_fert, ape_fert],\n",
    "    \"Mean\": [spe_avg, trie_avg, ape_avg],\n",
    "    \"Variance\": [spe_var, trie_var, ape_var],\n",
    "    \"Normalized Entropy\": [spe_ent, trie_ent, ape_ent],\n",
    "})\n",
    "\n",
    "df.style.format({\"Fertility\": \"{:.4f}\", \"Mean\": \"{:.2f}\", \"Variance\": \"{:.2f}\", \"Time\" : \"{:.2f}\"})\n"
   ]
  },
  {
   "cell_type": "code",
   "execution_count": 103,
   "metadata": {},
   "outputs": [
    {
     "data": {
      "image/png": "[encoded data removed]",
      "text/plain": [
       "<Figure size 1500x400 with 4 Axes>"
      ]
     },
     "metadata": {},
     "output_type": "display_data"
    }
   ],
   "source": [
    "# Labels and values\n",
    "tokenizers = [\"SPE\", \"Trie\", \"APE\"]\n",
    "\n",
    "fertilities = df[\"Fertility\"]\n",
    "means = df[\"Mean\"]\n",
    "variances = df[\"Variance\"]\n",
    "entropies = df[\"Normalized Entropy\"]\n",
    "\n",
    "fig, axs = plt.subplots(1, 4, figsize=(15, 4))\n",
    "\n",
    "# Fertility\n",
    "axs[0].bar(tokenizers, fertilities, color=\"skyblue\")\n",
    "axs[0].set_title(\"Fertility (tokens/char)\")\n",
    "axs[0].set_ylabel(\"Fertility\")\n",
    "\n",
    "# Mean\n",
    "axs[1].bar(tokenizers, means, color=\"lightgreen\")\n",
    "axs[1].set_title(\"Mean Tokens per SMILES\")\n",
    "axs[1].set_ylabel(\"Mean Tokens\")\n",
    "\n",
    "# Variance\n",
    "axs[2].bar(tokenizers, variances, color=\"salmon\")\n",
    "axs[2].set_title(\"Token Count Variance\")\n",
    "axs[2].set_ylabel(\"Variance\")\n",
    "\n",
    "# Normalized Entropy\n",
    "axs[3].bar(tokenizers, entropies, color=\"purple\")\n",
    "axs[3].set_title(\"Normalized Entropy\")\n",
    "axs[3].set_ylabel(\"Entropy\")\n",
    "\n",
    "# Clean layout\n",
    "for ax in axs:\n",
    "    ax.set_ylim(bottom=0)\n",
    "    ax.grid(axis='y', linestyle='--', alpha=0.5)\n",
    "\n",
    "plt.tight_layout()\n",
    "plt.show()\n"
   ]
  },
  {
   "cell_type": "code",
   "execution_count": 72,
   "metadata": {},
   "outputs": [
    {
     "data": {
      "image/png": "[encoded data removed]",
      "text/plain": [
       "<Figure size 600x500 with 1 Axes>"
      ]
     },
     "metadata": {},
     "output_type": "display_data"
    }
   ],
   "source": [
    "import matplotlib.pyplot as plt\n",
    "\n",
    "# Your data\n",
    "tokenizers = [\"SPE\", \"Trie\", \"APE\"]\n",
    "fertility = df[\"Fertility\"]\n",
    "entropy = df[\"Normalized Entropy\"]\n",
    "\n",
    "# Plot\n",
    "plt.figure(figsize=(6, 5))\n",
    "for i in range(len(tokenizers)):\n",
    "    plt.scatter(fertility[i], entropy[i], label=tokenizers[i], s=100)\n",
    "\n",
    "plt.xlabel(\"Fertility (tokens per char)\")\n",
    "plt.ylabel(\"Normalized Entropy\")\n",
    "plt.title(\"Efficiency vs. Diversity Tradeoff\")\n",
    "plt.grid(True, linestyle=\"--\", alpha=0.5)\n",
    "plt.legend()\n",
    "plt.xlim(0, 0.3)\n",
    "plt.ylim(0, 1.05)\n",
    "plt.tight_layout()\n",
    "plt.show()\n"
   ]
  },
  {
   "cell_type": "markdown",
   "metadata": {},
   "source": [
    "Fertility & Mean length\n",
    "* Trie wins hands-down at compressing each SMILES into the fewest tokens (mean ~4.5), which is ideal if sequence length is your primary bottleneck.\n",
    "* APE is in the middle (~7 tokens), and SPE the longest (~12.4 tokens).\n",
    "\n",
    "Variance\n",
    "* Trie also has the tightest length distribution—your downstream models will see very predictable, short input sizes.\n",
    "* SPE’s high variance means some SMILES balloon to very large token counts, which can hurt training stability.\n",
    "\n",
    "Normalized Entropy\n",
    "* APE has the richest token distribution (0.911), so it packs the most “surprise” per token—great for expressive power.\n",
    "* Trie trades off entropy to keep things short (0.867), and SPE sits in between.\n"
   ]
  },
  {
   "cell_type": "markdown",
   "metadata": {},
   "source": [
    "## Cross Corpus Analysis"
   ]
  },
  {
   "cell_type": "code",
   "execution_count": 73,
   "metadata": {},
   "outputs": [],
   "source": [
    "results = {}"
   ]
  },
  {
   "cell_type": "code",
   "execution_count": 74,
   "metadata": {},
   "outputs": [
    {
     "name": "stderr",
     "output_type": "stream",
     "text": [
      "APE  : 0it [00:00, ?it/s]"
     ]
    },
    {
     "name": "stderr",
     "output_type": "stream",
     "text": [
      "APE  : 1358980it [02:42, 8365.70it/s] \n",
      "APE variance  : 1358980it [02:41, 8414.53it/s] \n"
     ]
    },
    {
     "name": "stdout",
     "output_type": "stream",
     "text": [
      "1\n",
      "2\n"
     ]
    }
   ],
   "source": [
    "start = time.time()\n",
    "fertility, mean, variance, entropy = compute_ape_metrics(Chembl, ape)\n",
    "end = time.time()\n",
    "\n",
    "\n",
    "results['ape'] = {\n",
    "        'mean'       : mean,\n",
    "        'variance'   : variance,\n",
    "        'fertility'  : fertility,\n",
    "        'norm_ent'   : entropy\n",
    "    }\n"
   ]
  },
  {
   "cell_type": "code",
   "execution_count": 75,
   "metadata": {},
   "outputs": [
    {
     "data": {
      "text/plain": [
       "{'ape': {'time': 645.576366186142,\n",
       "  'mean': 15.77711666102518,\n",
       "  'variance': 544.8061575382942,\n",
       "  'fertility': 0.2759643135105849,\n",
       "  'norm_ent': 0.6085204202057404}}"
      ]
     },
     "execution_count": 75,
     "metadata": {},
     "output_type": "execute_result"
    }
   ],
   "source": [
    "results"
   ]
  },
  {
   "cell_type": "code",
   "execution_count": 76,
   "metadata": {},
   "outputs": [
    {
     "name": "stderr",
     "output_type": "stream",
     "text": [
      "SPE  : 1358980it [02:39, 8513.55it/s] \n",
      "SPE variance  : 1358980it [00:03, 392335.04it/s]\n"
     ]
    },
    {
     "name": "stdout",
     "output_type": "stream",
     "text": [
      "1\n",
      "2\n"
     ]
    }
   ],
   "source": [
    "start = time.time()\n",
    "fertility, mean, variance, entropy = compute_spe_metrics(Chembl, spe)\n",
    "end = time.time()\n",
    "\n",
    "\n",
    "results['spe'] = {\n",
    "        'mean'       : mean,\n",
    "        'variance'   : variance,\n",
    "        'fertility'  : fertility,\n",
    "        'norm_ent'   : entropy\n",
    "    }\n"
   ]
  },
  {
   "cell_type": "code",
   "execution_count": 77,
   "metadata": {},
   "outputs": [
    {
     "data": {
      "text/plain": [
       "{'ape': {'time': 645.576366186142,\n",
       "  'mean': 15.77711666102518,\n",
       "  'variance': 544.8061575382942,\n",
       "  'fertility': 0.2759643135105849,\n",
       "  'norm_ent': 0.6085204202057404},\n",
       " 'spe': {'time': 171.369615316391,\n",
       "  'mean': 17.419488881366906,\n",
       "  'variance': 184.2713505983309,\n",
       "  'fertility': 0.3046917503454222,\n",
       "  'norm_ent': 0.8198844427930492}}"
      ]
     },
     "execution_count": 77,
     "metadata": {},
     "output_type": "execute_result"
    }
   ],
   "source": [
    "results"
   ]
  },
  {
   "cell_type": "code",
   "execution_count": 78,
   "metadata": {},
   "outputs": [
    {
     "name": "stderr",
     "output_type": "stream",
     "text": [
      "Trie : 1358980it [00:13, 101821.57it/s]\n",
      "Trie variance  : 1358980it [00:12, 107779.56it/s]\n"
     ]
    },
    {
     "name": "stdout",
     "output_type": "stream",
     "text": [
      "1\n",
      "2\n"
     ]
    }
   ],
   "source": [
    "start = time.time()\n",
    "fertility, mean, variance, entropy = compute_trie_metrics(Chembl, trie_state)\n",
    "end = time.time()\n",
    "\n",
    "\n",
    "results['trie'] = {\n",
    "        'mean'       : mean,\n",
    "        'variance'   : variance,\n",
    "        'fertility'  : fertility,\n",
    "        'norm_ent'   : entropy\n",
    "    }\n"
   ]
  },
  {
   "cell_type": "code",
   "execution_count": 116,
   "metadata": {},
   "outputs": [],
   "source": [
    "results_df = pd.DataFrame(results)\n",
    "results_df = results_df.T"
   ]
  },
  {
   "cell_type": "code",
   "execution_count": 117,
   "metadata": {},
   "outputs": [
    {
     "data": {
      "text/html": [
       "<div>\n",
       "<style scoped>\n",
       "    .dataframe tbody tr th:only-of-type {\n",
       "        vertical-align: middle;\n",
       "    }\n",
       "\n",
       "    .dataframe tbody tr th {\n",
       "        vertical-align: top;\n",
       "    }\n",
       "\n",
       "    .dataframe thead th {\n",
       "        text-align: right;\n",
       "    }\n",
       "</style>\n",
       "<table border=\"1\" class=\"dataframe\">\n",
       "  <thead>\n",
       "    <tr style=\"text-align: right;\">\n",
       "      <th></th>\n",
       "      <th>time</th>\n",
       "      <th>mean</th>\n",
       "      <th>variance</th>\n",
       "      <th>fertility</th>\n",
       "      <th>norm_ent</th>\n",
       "    </tr>\n",
       "  </thead>\n",
       "  <tbody>\n",
       "    <tr>\n",
       "      <th>ape</th>\n",
       "      <td>645.576366</td>\n",
       "      <td>15.777117</td>\n",
       "      <td>544.806158</td>\n",
       "      <td>0.275964</td>\n",
       "      <td>0.608520</td>\n",
       "    </tr>\n",
       "    <tr>\n",
       "      <th>spe</th>\n",
       "      <td>171.369615</td>\n",
       "      <td>17.419489</td>\n",
       "      <td>184.271351</td>\n",
       "      <td>0.304692</td>\n",
       "      <td>0.819884</td>\n",
       "    </tr>\n",
       "    <tr>\n",
       "      <th>trie</th>\n",
       "      <td>52.503131</td>\n",
       "      <td>7.701890</td>\n",
       "      <td>66.032611</td>\n",
       "      <td>0.134717</td>\n",
       "      <td>0.696306</td>\n",
       "    </tr>\n",
       "  </tbody>\n",
       "</table>\n",
       "</div>"
      ],
      "text/plain": [
       "            time       mean    variance  fertility  norm_ent\n",
       "ape   645.576366  15.777117  544.806158   0.275964  0.608520\n",
       "spe   171.369615  17.419489  184.271351   0.304692  0.819884\n",
       "trie   52.503131   7.701890   66.032611   0.134717  0.696306"
      ]
     },
     "execution_count": 117,
     "metadata": {},
     "output_type": "execute_result"
    }
   ],
   "source": [
    "results_df"
   ]
  },
  {
   "cell_type": "markdown",
   "metadata": {},
   "source": [
    "Trie tokenizer generalizes best, yielding the shortest and most consistent token sequences on ChEMBL.\n",
    "SPE maintains the highest normalized entropy but suffers from long, fragmented outputs.\n",
    "APE strikes a middle ground in length, but its entropy drops sharply out-of-domain, hinting at overfitting.\n",
    "Overall, Trie is the most robust and efficient for cross-dataset tokenization.\n"
   ]
  },
  {
   "cell_type": "code",
   "execution_count": 120,
   "metadata": {},
   "outputs": [
    {
     "data": {
      "image/png": "[encoded data removed]",
      "text/plain": [
       "<Figure size 1500x400 with 4 Axes>"
      ]
     },
     "metadata": {},
     "output_type": "display_data"
    }
   ],
   "source": [
    "# Labels and values\n",
    "tokenizers = [\"APE\", \"SPE\", \"Trie\"]\n",
    "\n",
    "fertilities = results_df[\"fertility\"]\n",
    "means = results_df['mean']\n",
    "variances = results_df[\"variance\"]\n",
    "entropies = results_df[\"norm_ent\"]\n",
    "\n",
    "fig, axs = plt.subplots(1, 4, figsize=(15, 4))\n",
    "\n",
    "# Fertility\n",
    "axs[0].bar(tokenizers, fertilities, color=\"skyblue\")\n",
    "axs[0].set_title(\"Fertility (tokens/char)\")\n",
    "axs[0].set_ylabel(\"Fertility\")\n",
    "\n",
    "# Mean\n",
    "axs[1].bar(tokenizers, means, color=\"lightgreen\")\n",
    "axs[1].set_title(\"Mean Tokens per SMILES\")\n",
    "axs[1].set_ylabel(\"Mean Tokens\")\n",
    "\n",
    "# Variance\n",
    "axs[2].bar(tokenizers, variances, color=\"salmon\")\n",
    "axs[2].set_title(\"Token Count Variance\")\n",
    "axs[2].set_ylabel(\"Variance\")\n",
    "\n",
    "# Normalized Entropy\n",
    "axs[3].bar(tokenizers, entropies, color=\"purple\")\n",
    "axs[3].set_title(\"Normalized Entropy\")\n",
    "axs[3].set_ylabel(\"Entropy\")\n",
    "\n",
    "# Clean layout\n",
    "for ax in axs:\n",
    "    ax.set_ylim(bottom=0)\n",
    "    ax.grid(axis='y', linestyle='--', alpha=0.5)\n",
    "\n",
    "plt.tight_layout()\n",
    "plt.show()\n"
   ]
  },
  {
   "cell_type": "code",
   "execution_count": 119,
   "metadata": {},
   "outputs": [
    {
     "data": {
      "text/plain": [
       "Index(['time', 'mean', 'variance', 'fertility', 'norm_ent'], dtype='object')"
      ]
     },
     "execution_count": 119,
     "metadata": {},
     "output_type": "execute_result"
    }
   ],
   "source": [
    "results_df.columns"
   ]
  },
  {
   "cell_type": "markdown",
   "metadata": {},
   "source": [
    "## Inference Times"
   ]
  },
  {
   "cell_type": "code",
   "execution_count": 1,
   "metadata": {},
   "outputs": [],
   "source": [
    "# train_trie.py\n",
    "# Build a TTG-guided token-replacement trie for the PubChem-100 K slice.\n",
    "\n",
    "from collections import Counter\n",
    "from collections import defaultdict\n",
    "import math\n",
    "import numpy as np\n",
    "import codecs\n",
    "import tqdm\n",
    "import time\n",
    "import copy\n",
    "import matplotlib.pyplot as plt\n",
    "import pandas as pd\n",
    "%matplotlib inline\n",
    "\n",
    "from utils import iter_smiles\n",
    "import trie_funcs as tf\n",
    "from ape_tokenizer import APETokenizer\n",
    "from SmilesPE.tokenizer import SPE_Tokenizer\n",
    "\n",
    "SLICE = \"data/pubchem_100K.parquet\"\n",
    "OUT_DIR = \"ttg_vocab\"            "
   ]
  },
  {
   "cell_type": "code",
   "execution_count": null,
   "metadata": {},
   "outputs": [],
   "source": [
    "SLICE = \"data/pubchem_100K.parquet\"\n",
    "TRIE_FILE = \"trie_pubchem100K.pkl\"\n",
    "APE_DIR = \"ape_pubchem100K\"\n",
    "SPE_FILE = \"spe_pubchem100K.txt\"\n",
    "Chembl = \"data/chembl_train.parquet\"\n",
    "TTG_FILE = \"ttg_vocab/ttg_pubchem100K_K12_F2_H3p5.pkl\""
   ]
  },
  {
   "cell_type": "code",
   "execution_count": null,
   "metadata": {},
   "outputs": [],
   "source": [
    "ape = APETokenizer.from_pretrained(APE_DIR)\n",
    "trie_state = tf.load_state(TRIE_FILE)\n",
    "ttg_state = tf.load_state(TTG_FILE)\n",
    "spe_vocab = codecs.open(\"./spe_pubchem100K.txt\")\n",
    "spe = SPE_Tokenizer(spe_vocab)"
   ]
  },
  {
   "cell_type": "code",
   "execution_count": null,
   "metadata": {},
   "outputs": [],
   "source": [
    "def spe_inference(smiles_list, tokenizer):\n",
    "    \"\"\"\n",
    "    Compute all SPE inference time\n",
    "    \n",
    "    Args:\n",
    "        smiles_list: Path to parquet file containing SMILES strings\n",
    "        tokenizer: SPE tokenizer instance with tokenize() method\n",
    "        \n",
    "    Returns:\n",
    "        float: SPE inference time\n",
    "    \"\"\"    \n",
    "    start = time.time()\n",
    "    \n",
    "    # Single pass through the data\n",
    "    for smi in tqdm.tqdm(iter_smiles(smiles_list), desc=\"SPE inference\"):\n",
    "        # Tokenize once per SMILES\n",
    "        _ = tokenizer.tokenize(smi).split(\" \")\n",
    "    \n",
    "    end = time.time()\n",
    "    \n",
    "    return end - start"
   ]
  },
  {
   "cell_type": "code",
   "execution_count": null,
   "metadata": {},
   "outputs": [],
   "source": [
    "def trie_inference(smiles_list, tokenizer):\n",
    "    \"\"\"\n",
    "    Compute Trie inference\n",
    "    \n",
    "    Args:\n",
    "        smiles_list: Path to parquet file containing SMILES strings\n",
    "        tokenizer: Trie tokenizer state with compress_and_len function\n",
    "        \n",
    "    Returns:\n",
    "        float: trie inference time\n",
    "    \"\"\"\n",
    "    \n",
    "    # Import trie_funcs locally to avoid import issues\n",
    "    try:\n",
    "        import trie_funcs as tf\n",
    "    except ImportError:\n",
    "        raise ImportError(\"trie_funcs module is required for Trie inference\")\n",
    "    \n",
    "    start = time.time()\n",
    "    \n",
    "    # Single pass through the data\n",
    "    for smi in tqdm.tqdm(iter_smiles(smiles_list), desc=\"Trie inference\"):\n",
    "        # Tokenize once per SMILES\n",
    "        base = tf.tokenize(smi)  # list of atomic tokens\n",
    "        _ = tf.compress(base, tokenizer.replace_root)\n",
    "\n",
    "    end = time.time()\n",
    "    \n",
    "    return end - start"
   ]
  },
  {
   "cell_type": "code",
   "execution_count": null,
   "metadata": {},
   "outputs": [],
   "source": [
    "def ape_inference(smiles_list, tokenizer):\n",
    "    \"\"\"\n",
    "    Compute APE inference time\n",
    "    \n",
    "    Args:\n",
    "        smiles_list: Path to parquet file containing SMILES strings\n",
    "        tokenizer: APE tokenizer instance with encode() method\n",
    "        \n",
    "    Returns:\n",
    "        float: APE inference time\n",
    "    \"\"\"\n",
    "    start = time.time()\n",
    "    \n",
    "    # Single pass through the data\n",
    "    for smi in tqdm.tqdm(iter_smiles(smiles_list), desc=\"APE inference\"):\n",
    "        # Tokenize once per SMILES\n",
    "        _ = tokenizer.encode(smi)\n",
    "\n",
    "    end = time.time()\n",
    "        \n",
    "    return end - start"
   ]
  },
  {
   "cell_type": "code",
   "execution_count": null,
   "metadata": {},
   "outputs": [],
   "source": [
    "# inference time on training set\n",
    "spe_time = spe_inference(SLICE, spe)\n",
    "\n",
    "trie_time = trie_inference(SLICE, trie_state)\n",
    "\n",
    "ape_time = ape_inference(SLICE, ape)\n",
    "\n",
    "ttg_time = trie_inference(SLICE, ttg_state)"
   ]
  },
  {
   "cell_type": "code",
   "execution_count": null,
   "metadata": {},
   "outputs": [],
   "source": [
    "# inference time on testing set\n",
    "spe_time_test = spe_inference(Chembl, spe)\n",
    "\n",
    "trie_time_test = trie_inference(Chembl, trie_state)\n",
    "\n",
    "ape_time_test = ape_inference(Chembl, ape)\n",
    "\n",
    "ttg_time_test = trie_inference(Chembl, ttg_state)\n"
   ]
  },
  {
   "cell_type": "code",
   "execution_count": null,
   "metadata": {},
   "outputs": [],
   "source": []
  }
 ],
 "metadata": {
  "kernelspec": {
   "display_name": "davai",
   "language": "python",
   "name": "python3"
  },
  "language_info": {
   "codemirror_mode": {
    "name": "ipython",
    "version": 3
   },
   "file_extension": ".py",
   "mimetype": "text/x-python",
   "name": "python",
   "nbconvert_exporter": "python",
   "pygments_lexer": "ipython3",
   "version": "3.11.12"
  }
 },
 "nbformat": 4,
 "nbformat_minor": 2
}
